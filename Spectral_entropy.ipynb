{
 "cells": [
  {
   "cell_type": "markdown",
   "metadata": {},
   "source": [
    "<font color=#0000FF size=10 face=\"Times New Roman\">Title: </font>\n",
    "\n",
    "<font color=#0000FF size=6 face=\"Times New Roman\">Identifcation of network topology structural by spectral entropy</font>"
   ]
  },
  {
   "cell_type": "markdown",
   "metadata": {},
   "source": [
    "<font color=#000000 size=5 face=\"Times New Roman\">Author: </font>\n",
    "\n",
    "<font color=#000000 size=5 face=\"Times New Roman\">Dan Chen, Housheng Su, Minghui Yu, Gui-Jun Pan and Jian Tong</font>"
   ]
  },
  {
   "cell_type": "markdown",
   "metadata": {},
   "source": [
    "<font color=#6495ED size=6 face=\"Times New Roman\">Introduction: </font>\n",
    "\n",
    "<font color=#6495ED size=4 face=\"Times New Roman\">This project provides some of the python source code used in this paper, and you can run it online with Jupyter Notebook and even extend it for research on other projects.</font>"
   ]
  },
  {
   "cell_type": "markdown",
   "metadata": {},
   "source": [
    "# 1. Methods"
   ]
  },
  {
   "cell_type": "markdown",
   "metadata": {},
   "source": [
    "### (1) B spectral entropy (BSE, Braunstein *et al*)\n",
    "For a undirected network, the Laplacian matrix $L$ is symmetric and positive semidefinite, $L = D - A$, with $A$ the adjacency matrix of the network and $D$ the diagonal matrix of node degrees. Considering that its trace is equal to the sum of each vertex degree of a graph, it is not equal to unity, so defined by $\\rho = L/Z$, $Z = TrL$. \n",
    "\n",
    "Then the von Neumann entropy of an $N \\times N$ density matrix $\\rho$ is $S\\left(\\rho \\right) =  - Tr\\left( {\\rho \\log _2 \\rho} \\right) =  - \\sum\\limits_{i = 1}^N {\\lambda _i \\left(\\rho \\right)\\log _2 \\lambda _i \\left(\\rho \\right)}$, where by convention $0\\log _2 0: = 0$, $\\lambda _i \\left(\\rho \\right)$ indicates the $i$th eigenvalue of the density matrix $\\rho$. So the B spectral entropy (BSE) of the network can be reduced to \n",
    "\n",
    "$S_b  = \\log _2 Z - \\frac{1}{{Z\\ln 2}}\\sum\\limits_{i = 1}^N {\\lambda _i \\left( L \\right)\\ln \\lambda _i \\left( L \\right)}$.-----------------(1)\n",
    "\n",
    "\n",
    "### References\n",
    "\n",
    "[1] Braunstein S L, Ghosh S and Severini S 2006 The laplacian of a graph as a density matrix: a basic combinatorial approach to separability of mixed states *Ann. Comb.* 10 291\n",
    "\n",
    "[2] Anand K, Bianconi G and Severini S 2011 Shannon and von neumann entropy of random networks with heterogeneous expected degree *Phys. Rev.* E 83 036109"
   ]
  },
  {
   "cell_type": "markdown",
   "metadata": {},
   "source": [
    "### (2) D spectral entropy (DSE, De Domenico *et al*)\n",
    "Using the statistical distribution $P_i  = Z^{ - 1} e^{ - \\beta E_i }$ in classical statistical physics and $H\\left| {\\psi _i } \\right\\rangle\n",
    "= E_i \\left| {\\psi _i } \\right\\rangle$, $\\rho$ can be written as $\\rho = Z^{ - 1} e^{ - \\beta H}$.\n",
    "\n",
    "Recently, De Domenico *et al* introduced $H = L$ to define the density matrix as $\\rho = Z^{ - 1} e^{ - \\beta L}$, $\\lambda _i \\left(\\rho \\right) = Z^{ - 1} e^{ - \\beta \\lambda _i \\left(L \\right)}$, where $Z = \\sum\\limits_{i = 1}^N {e^{ - \\beta \\lambda _i \\left(L \\right)}}$. In this case, the spectral entropy (DSE) can be expressed as\n",
    "\n",
    "$S_d = \\log _2 Z + \\frac{1}{{Z\\ln 2}}\\sum\\limits_{i = 1}^N {\\beta \\lambda _i \\left( L \\right)e^{ - \\beta \\lambda _i \\left(L \\right)}} = \\log _2 Z + \\frac{\\beta }{{\\ln 2}}Tr\\left[ L\\rho \\right]$.-----------------(2)\n",
    "\n",
    "\n",
    "### References\n",
    "[1] De Domenico M and Biamonte J 2016 Spectral entropies as information-theoretic tools for complex network comparison *Phys. Rev.* X 6 041062"
   ]
  },
  {
   "cell_type": "markdown",
   "metadata": {},
   "source": [
    "### (3) E spectral entropy (ESE, Estrada *et al*)\n",
    "Estrada *et al* proposed the total energy and Helmholtz free energy of the network by introducing the Hamiltonian $H = -A$, the density matrix $\\rho$ can be rewritten as\n",
    "\n",
    "$\\rho = \\frac{{e^{ - \\beta \\left( { -A} \\right)} }}{Z} = \\frac{{e^{\\beta A}}}{Z}, Z = Tre^{\\beta A} = \\sum\\limits_{i = 1}^N {e^{\\beta \\lambda _i \\left( A \\right)}}$,-----------------(3)\n",
    "\n",
    "where $\\beta > 0$, it can be considered as the 'strength' of the interaction between a pair of vertices.The spectral entropy (ESE) under the density matrix $\\rho = Z^{ - 1} e^{ \\beta A}$, it as follows\n",
    "\n",
    "$S_e = \\log _2 Z - \\frac{1}{{Z\\ln 2}}\\sum\\limits_{i = 1}^N {\\beta \\lambda _i \\left( A \\right)e^{\\beta \\lambda _i \\left(A \\right)}} \n",
    " = \\log _2 Z - \\frac{\\beta }{{\\ln 2}}Tr\\left[A\\rho \\right]$.-----------------(4)\n",
    " \n",
    "### References\n",
    "\n",
    "[1] Estrada E, Hatano N and Benzi M 2012 The physics of communicability in complex networks *Phys. Rep.* 514 89-119\n",
    "\n",
    "[2] Estrada E and Hatano N 2007 Statistical-mechanical approach to subgraph centrality in complex networks *Chem. Phys. Lett.* 439 247-51"
   ]
  },
  {
   "cell_type": "markdown",
   "metadata": {},
   "source": [
    "# 2. Results"
   ]
  },
  {
   "cell_type": "markdown",
   "metadata": {},
   "source": [
    "<font color=#DC143C size=4 face=\"Times New Roman\">It should be noted that, unlike the results in this paper, the results presented in this project do not take into account statistical averages.</font>"
   ]
  },
  {
   "cell_type": "markdown",
   "metadata": {},
   "source": [
    "## 2.1. Quantification heterogeneity of the degree distribution by spetral entropy"
   ]
  },
  {
   "cell_type": "markdown",
   "metadata": {},
   "source": [
    "<font color=#DC143C size=4 face=\"Times New Roman\">For spetral entropy BSE, it is worth noting that the network sizes we consider here are $N=100$ to $N=1000$.</font>"
   ]
  },
  {
   "cell_type": "code",
   "execution_count": 1,
   "metadata": {},
   "outputs": [],
   "source": [
    "import numpy as np\n",
    "import networkx as nx\n",
    "import function as fu\n",
    "import matplotlib as mpl\n",
    "mpl.rcParams['text.usetex'] = True\n",
    "import matplotlib.pyplot as plt\n",
    "%matplotlib inline"
   ]
  },
  {
   "cell_type": "markdown",
   "metadata": {},
   "source": [
    "### (1) Spetral entropy BSE"
   ]
  },
  {
   "cell_type": "code",
   "execution_count": 2,
   "metadata": {},
   "outputs": [],
   "source": [
    "nodes = [100,200,400,600,800,1000]\n",
    "Sb_ER1 = []\n",
    "Sb_BA1 = []\n",
    "Sb_ER2 = []\n",
    "Sb_BA2 = []\n",
    "for n in nodes:\n",
    "    # The average degree is 4\n",
    "    G1 = nx.gnm_random_graph(n, 2*n)\n",
    "    A1, L1 = fu.cal_AandL(G1)\n",
    "    Sb_ER1.append(fu.cal_entropy1(L1)) \n",
    "    G2 = nx.barabasi_albert_graph(n, 2)\n",
    "    A2, L2 = fu.cal_AandL(G2)\n",
    "    Sb_BA1.append(fu.cal_entropy1(L2))\n",
    "    \n",
    "    # The average degree is 10\n",
    "    G3 = nx.gnm_random_graph(n, 5*n)\n",
    "    A3, L3 = fu.cal_AandL(G3)\n",
    "    Sb_ER2.append(fu.cal_entropy1(L3)) \n",
    "    G4 = nx.barabasi_albert_graph(n, 5)\n",
    "    A4, L4 = fu.cal_AandL(G4)\n",
    "    Sb_BA2.append(fu.cal_entropy1(L4))"
   ]
  },
  {
   "cell_type": "code",
   "execution_count": 3,
   "metadata": {},
   "outputs": [
    {
     "data": {
      "image/png": "[encoded data removed]",
      "text/plain": [
       "<Figure size 576x230.4 with 2 Axes>"
      ]
     },
     "metadata": {},
     "output_type": "display_data"
    }
   ],
   "source": [
    "plt.figure(figsize=(8, 3.2))\n",
    "plt.subplot(121)\n",
    "plt.plot(nodes, Sb_ER1, color=\"blue\",marker =\"s\", lw=1.5, ms=4, label='ER')\n",
    "plt.plot(nodes, Sb_BA1, color=\"red\",marker =\"o\", lw=1.5, ms=4, label='BA')\n",
    "\n",
    "plt.legend(loc=2,fontsize=12)\n",
    "plt.axis('tight')\n",
    "plt.xscale('log')\n",
    "plt.xlabel(r'$N$')\n",
    "plt.ylabel(r'$S_b/log_2N$')\n",
    "plt.title(r'(a) $\\left\\langle k \\right\\rangle=4$')\n",
    "plt.xlim(8e1,1.2e3)\n",
    "plt.ylim(0.7,1.2)\n",
    "plt.yticks([0.7,0.9,1.1])\n",
    "\n",
    "\n",
    "plt.subplot(122)\n",
    "plt.plot(nodes, Sb_ER2, color=\"blue\",marker =\"s\", lw=1.5, ms=4, label='ER')\n",
    "plt.plot(nodes, Sb_BA2, color=\"red\",marker =\"o\", lw=1.5, ms=4, label='BA')\n",
    "\n",
    "plt.legend(loc=2,fontsize=12)\n",
    "plt.axis('tight')\n",
    "plt.xscale('log')\n",
    "plt.xlabel(r'$N$')\n",
    "plt.ylabel(r'$S_b/log_2N$')\n",
    "plt.title(r'(b) $\\left\\langle k \\right\\rangle=10$')\n",
    "plt.xlim(8e1,1.2e3)\n",
    "plt.ylim(0.7,1.2)\n",
    "plt.yticks([0.7,0.9,1.1])\n",
    "plt.tight_layout()\n",
    "plt.show()"
   ]
  },
  {
   "cell_type": "markdown",
   "metadata": {},
   "source": [
    "### (2) Spetral entropy DSE"
   ]
  },
  {
   "cell_type": "code",
   "execution_count": 4,
   "metadata": {},
   "outputs": [
    {
     "data": {
      "image/png": "[encoded data removed]",
      "text/plain": [
       "<Figure size 576x230.4 with 2 Axes>"
      ]
     },
     "metadata": {},
     "output_type": "display_data"
    }
   ],
   "source": [
    "n = 1000\n",
    "betaArray = np.logspace(3.0, -3.0, num=50, base=10)\n",
    "Sd_ER1 = []\n",
    "Sd_BA1 = []\n",
    "Sd_ER2 = []\n",
    "Sd_BA2 = []\n",
    "\n",
    "# The average degree is 4\n",
    "G5 = nx.gnm_random_graph(n, 2*n)\n",
    "G6 = nx.barabasi_albert_graph(n, 2)\n",
    "A5, L5 = fu.cal_AandL(G5)\n",
    "A6, L6 = fu.cal_AandL(G6)\n",
    "\n",
    "# The average degree is 10\n",
    "G7 = nx.gnm_random_graph(n, 5*n)\n",
    "G8 = nx.barabasi_albert_graph(n, 5)\n",
    "A7, L7 = fu.cal_AandL(G7)\n",
    "A8, L8 = fu.cal_AandL(G8)\n",
    "\n",
    "for beta in betaArray:    \n",
    "    Sd_ER1.append(fu.cal_entropy2(beta, L5))\n",
    "    Sd_BA1.append(fu.cal_entropy2(beta, L6))\n",
    "    \n",
    "    Sd_ER2.append(fu.cal_entropy2(beta, L7))\n",
    "    Sd_BA2.append(fu.cal_entropy2(beta, L8))\n",
    "\n",
    "plt.figure(figsize=(8, 3.2))\n",
    "plt.subplot(121)\n",
    "plt.plot(1/betaArray, Sd_ER1, 'bs-', lw=1.5, ms=4, label='ER') \n",
    "plt.plot(1/betaArray, Sd_BA1, 'ro-', lw=1.5, ms=4, label='BA')\n",
    "\n",
    "plt.legend(loc=0,fontsize=12)\n",
    "plt.axis('tight')\n",
    "plt.xscale('log')\n",
    "plt.xlabel(r'$1/\\beta$')\n",
    "plt.ylabel(r'$S_d/log_2N$')\n",
    "plt.title(r'(a) $\\left\\langle k \\right\\rangle=4$')\n",
    "\n",
    "plt.xlim(1e-3,1e3)\n",
    "plt.xticks([1e-3,1e-1,1e1,1e3])\n",
    "plt.ylim(-0.04,1.04)\n",
    "plt.yticks([0.0,0.2,0.4,0.6,0.8,1.0])\n",
    "\n",
    "\n",
    "plt.subplot(122)\n",
    "plt.plot(1/betaArray, Sd_ER2, 'bs-', lw=1.5, ms=4, label='ER') \n",
    "plt.plot(1/betaArray, Sd_BA2, 'ro-', lw=1.5, ms=4, label='BA')\n",
    "\n",
    "plt.legend(loc=2,fontsize=12)\n",
    "plt.axis('tight')\n",
    "plt.xscale('log')\n",
    "plt.xlabel(r'$1/\\beta$')\n",
    "plt.ylabel(r'$S_d/log_2N$')\n",
    "plt.title(r'(b) $\\left\\langle k \\right\\rangle=10$')\n",
    "\n",
    "plt.xlim(1e-3,1e3)\n",
    "plt.xticks([1e-3,1e-1,1e1,1e3])\n",
    "plt.ylim(-0.04,1.04)\n",
    "plt.yticks([0.0,0.2,0.4,0.6,0.8,1.0])\n",
    "\n",
    "plt.tight_layout()\n",
    "plt.show()"
   ]
  },
  {
   "cell_type": "markdown",
   "metadata": {},
   "source": [
    "### (3) Spetral entropy ESE"
   ]
  },
  {
   "cell_type": "markdown",
   "metadata": {},
   "source": [
    "<font color=#DC143C size=4 face=\"Times New Roman\">When $\\beta$ is very large, the calculation will overflow, but in fact, from a theoretical point of view, the result of spectral entropy $S_e/log_2N$ tends to 0.</font>"
   ]
  },
  {
   "cell_type": "code",
   "execution_count": 5,
   "metadata": {},
   "outputs": [
    {
     "name": "stderr",
     "output_type": "stream",
     "text": [
      "E:\\Jupyter Notebook\\Spectral-entropy-master\\function.py:71: RuntimeWarning: overflow encountered in multiply\n",
      "  S2 = (np.sum(beta*eig*np.exp(-beta*eig), dtype=np.float64))/(Z*np.log(2.0))\n",
      "E:\\Jupyter Notebook\\Spectral-entropy-master\\function.py:71: RuntimeWarning: invalid value encountered in double_scalars\n",
      "  S2 = (np.sum(beta*eig*np.exp(-beta*eig), dtype=np.float64))/(Z*np.log(2.0))\n"
     ]
    },
    {
     "data": {
      "image/png": "[encoded data removed]",
      "text/plain": [
       "<Figure size 576x230.4 with 2 Axes>"
      ]
     },
     "metadata": {},
     "output_type": "display_data"
    }
   ],
   "source": [
    "Se_ER1 = []\n",
    "Se_BA1 = []\n",
    "Se_ER2 = []\n",
    "Se_BA2 = []\n",
    "for beta in betaArray:    \n",
    "    Se_ER1.append(fu.cal_entropy2(beta, -A5))\n",
    "    Se_BA1.append(fu.cal_entropy2(beta, -A6))\n",
    "    \n",
    "    Se_ER2.append(fu.cal_entropy2(beta, -A7))\n",
    "    Se_BA2.append(fu.cal_entropy2(beta, -A8))\n",
    "\n",
    "plt.figure(figsize=(8, 3.2))\n",
    "plt.subplot(121)\n",
    "plt.plot(1/betaArray, Se_ER1, 'bs-', lw=1.5, ms=4, label='ER') \n",
    "plt.plot(1/betaArray, Se_BA1, 'ro-', lw=1.5, ms=4, label='BA')\n",
    "\n",
    "plt.legend(loc=0,fontsize=12)\n",
    "plt.axis('tight')\n",
    "plt.xscale('log')\n",
    "plt.xlabel(r'$1/\\beta$')\n",
    "plt.ylabel(r'$S_e/log_2N$')\n",
    "plt.title(r'(a) $\\left\\langle k \\right\\rangle=4$')\n",
    "\n",
    "plt.xlim(1e-3,1e3)\n",
    "plt.xticks([1e-3,1e-1,1e1,1e3])\n",
    "plt.ylim(-0.04,1.04)\n",
    "plt.yticks([0.0,0.2,0.4,0.6,0.8,1.0])\n",
    "\n",
    "\n",
    "plt.subplot(122)\n",
    "plt.plot(1/betaArray, Se_ER2, 'bs-', lw=1.5, ms=4, label='ER') \n",
    "plt.plot(1/betaArray, Se_BA2, 'ro-', lw=1.5, ms=4, label='BA')\n",
    "\n",
    "plt.legend(loc=2,fontsize=12)\n",
    "plt.axis('tight')\n",
    "plt.xscale('log')\n",
    "plt.xlabel(r'$1/\\beta$')\n",
    "plt.ylabel(r'$S_e/log_2N$')\n",
    "plt.title(r'(b) $\\left\\langle k \\right\\rangle=10$')\n",
    "\n",
    "plt.xlim(1e-3,1e3)\n",
    "plt.xticks([1e-3,1e-1,1e1,1e3])\n",
    "plt.ylim(-0.04,1.04)\n",
    "plt.yticks([0.0,0.2,0.4,0.6,0.8,1.0])\n",
    "\n",
    "plt.tight_layout()\n",
    "plt.show()"
   ]
  },
  {
   "cell_type": "markdown",
   "metadata": {},
   "source": [
    "## 2.2. Jensen-Shannon divergence\n",
    "\n",
    "For the two networks, they correspond to two density matrices $\\rho$ and $\\sigma$, respectively. Then the dissimilarities between them can be defined by the Jensen-Shannon divergence of $\\rho$ and $\\sigma$\n",
    "\n",
    "$D_{JS} \\left( {\\rho || \\sigma} \\right) = S\\left( {\\frac{{\\rho + \\sigma}}{2}} \\right) - \\frac{1}{2}\\left[ {S\\left( \\rho \\right) + S\\left( \\sigma  \\right)} \\right]$,-----------------(5)\n",
    "\n",
    "where the $\\left( {\\rho + \\sigma} \\right)/2$ is usually called the mixture matrix.\n",
    "In addition, equation.(5) is bounded, $0 \\leqslant D_{JS} \\left( {\\rho || \\sigma } \\right) \\leqslant 1$.\n",
    "\n",
    "### References\n",
    "\n",
    "[1] De Domenico M and Biamonte J 2016 Spectral entropies as information-theoretic tools for complex network comparison *Phys. Rev.* X 6 041062\n",
    "\n",
    "[2] Chen D, Shi D-D, Qin M, Xu S-M and Pan G-J 2018 Complex network comparison based on communicability sequence entropy *Phys. Rev.* E 98 012319"
   ]
  },
  {
   "cell_type": "markdown",
   "metadata": {},
   "source": [
    "(1) Jensen-Shannon divergence based on density matrix $\\rho = Z^{ - 1} e^{ - \\beta L}$: $D_{JS}(\\rho_d || \\sigma_d)$;\n",
    "\n",
    "(2) Jensen-Shannon divergence based on density matrix $\\rho = Z^{ - 1} e^{ \\beta A}$: $D_{JS}(\\rho_e || \\sigma_e)$;\n",
    "\n",
    "(3) Jensen-Shannon divergence based on density matrix $\\rho = L/Z$: $D_{JS}(\\rho_b || \\sigma_b)$.\n"
   ]
  },
  {
   "cell_type": "markdown",
   "metadata": {},
   "source": [
    "<font color=#DC143C size=4 face=\"Times New Roman\">For DSE and ESE, $\\beta = 1.0$.</font>"
   ]
  },
  {
   "cell_type": "code",
   "execution_count": 6,
   "metadata": {},
   "outputs": [],
   "source": [
    "n = 1000\n",
    "beta = 1.0 \n",
    "plink = np.logspace(-4,-1,16,base=10)\n",
    "plink = np.logspace(-4,-1,16,base=10)  \n",
    "# plink = np.logspace(-3,0,16,base=10)\n",
    "# plink = np.logspace(-3,0,16,base=10)  \n",
    "DJS1 = np.zeros((16, 16))\n",
    "DJS2 = np.zeros((16, 16))\n",
    "DJS3 = np.zeros((16, 16))\n",
    "\n",
    "for i in range(16):\n",
    "    Gi = nx.gnp_random_graph(n, plink[i])\n",
    "    Ai, Li = fu.cal_AandL(Gi)\n",
    "    pdi = fu.cal_density_matrix2(beta, Li)\n",
    "    pei = fu.cal_density_matrix2(beta, -Ai)\n",
    "    pbi = fu.cal_density_matrix1(Li)\n",
    "    for j in range(i,16): \n",
    "        Gj = nx.gnp_random_graph(n, plink[j])\n",
    "        Aj, Lj = fu.cal_AandL(Gj)\n",
    "        pdj = fu.cal_density_matrix2(beta, Lj)\n",
    "        pej = fu.cal_density_matrix2(beta, -Aj)\n",
    "        pbj = fu.cal_density_matrix1(Lj)\n",
    "        \n",
    "        DJS1[i][j] = fu.cal_JSD(pdi, pdj)\n",
    "        DJS1[j][i] = fu.cal_JSD(pdi, pdj)\n",
    "        \n",
    "        DJS2[i][j] = fu.cal_JSD(pei, pej)\n",
    "        DJS2[j][i] = fu.cal_JSD(pei, pej)\n",
    "        \n",
    "        DJS3[i][j] = fu.cal_JSD(pbi, pbj)\n",
    "        DJS3[j][i] = fu.cal_JSD(pbi, pbj)\n",
    "        \n",
    "     "
   ]
  },
  {
   "cell_type": "code",
   "execution_count": 7,
   "metadata": {},
   "outputs": [
    {
     "data": {
      "image/png": "[encoded data removed]",
      "text/plain": [
       "<Figure size 810x230.4 with 6 Axes>"
      ]
     },
     "metadata": {},
     "output_type": "display_data"
    }
   ],
   "source": [
    "plt.figure(figsize=(11.25,3.2))\n",
    "\n",
    "plt.subplot2grid((1,3),(0,0))\n",
    "plt.title(r'(a) $D_{JS}(\\rho_d || \\sigma_d)$')\n",
    "plt.imshow(DJS1,cmap='rainbow',origin='lower')\n",
    "plt.axis('off')\n",
    "#plt.xlabel(r'$P_{link}$')\n",
    "#plt.ylabel(r'$P_{link}$')\n",
    "plt.text(-4, 7, r'$P_{link}$', {'color': 'k', 'fontsize': 10})\n",
    "plt.text(-2.5, -0.5, r'$10^{-4}$', {'color': 'k', 'fontsize': 10})\n",
    "plt.text(-2.2, 5, r'$P_c$', {'color': 'k', 'fontsize': 10})\n",
    "plt.text(-2, 14.5, r'$0.1$', {'color': 'k', 'fontsize': 10})\n",
    "\n",
    "plt.text(-0.5, -1.5, r'$10^{-4}$', {'color': 'k', 'fontsize': 10})\n",
    "plt.text(7, -2.5, r'$P_{link}$', {'color': 'k', 'fontsize': 10})\n",
    "plt.text(5, -1.5, r'$P_c$', {'color': 'k', 'fontsize': 10})\n",
    "plt.text(14.5, -1.5, r'$0.1$', {'color': 'k', 'fontsize': 10})\n",
    "plt.clim(0,1)\n",
    "plt.colorbar(fraction=0.045, pad=0.05,ticks=[0.0,0.2,0.4,0.6,0.8,1.0])\n",
    "\n",
    "\n",
    "plt.subplot2grid((1,3),(0,1))\n",
    "plt.title(r'(b) $D_{JS}(\\mathcal{\\rho}_e || \\mathcal{\\sigma}_e)$')\n",
    "plt.imshow(DJS2,cmap='rainbow',origin='lower')\n",
    "#plt.xlabel(r'$P_{link}$')\n",
    "#plt.ylabel(r'$P_{link}$')\n",
    "plt.axis('off')\n",
    "plt.text(-4, 7, r'$P_{link}$', {'color': 'k', 'fontsize': 10})\n",
    "plt.text(-2.5, -0.5, r'$10^{-4}$', {'color': 'k', 'fontsize': 10})\n",
    "plt.text(-2.2, 5, r'$P_c$', {'color': 'k', 'fontsize': 10})\n",
    "plt.text(-2, 14.5, r'$0.1$', {'color': 'k', 'fontsize': 10})\n",
    "\n",
    "plt.text(-0.5, -1.5, r'$10^{-4}$', {'color': 'k', 'fontsize': 10})\n",
    "plt.text(7, -2.5, r'$P_{link}$', {'color': 'k', 'fontsize': 10})\n",
    "plt.text(5, -1.5, r'$P_c$', {'color': 'k', 'fontsize': 10})\n",
    "plt.text(14.5, -1.5, r'$0.1$', {'color': 'k', 'fontsize': 10})\n",
    "plt.clim(0,1)\n",
    "plt.colorbar(fraction=0.045, pad=0.05,ticks=[0.0,0.2,0.4,0.6,0.8,1.0])\n",
    "\n",
    "\n",
    "plt.subplot2grid((1,3),(0,2))\n",
    "plt.title(r'(c) $D_{JS}(\\rho_b || \\sigma_b)$')\n",
    "plt.imshow(DJS3,cmap='rainbow',origin='lower')\n",
    "plt.axis('off')  \n",
    "plt.text(-4, 7, r'$P_{link}$', {'color': 'k', 'fontsize': 10})\n",
    "plt.text(-2.5, -0.5, r'$10^{-4}$', {'color': 'k', 'fontsize': 10})\n",
    "plt.text(-2.2, 5, r'$P_c$', {'color': 'k', 'fontsize': 10})\n",
    "plt.text(-2, 14.5, r'$0.1$', {'color': 'k', 'fontsize': 10})\n",
    "\n",
    "plt.text(-0.5, -1.5, r'$10^{-4}$', {'color': 'k', 'fontsize': 10})\n",
    "plt.text(7, -2.5, r'$P_{link}$', {'color': 'k', 'fontsize': 10})\n",
    "plt.text(5, -1.5, r'$P_c$', {'color': 'k', 'fontsize': 10})\n",
    "plt.text(14.5, -1.5, r'$0.1$', {'color': 'k', 'fontsize': 10})\n",
    "plt.clim(0,1)\n",
    "plt.colorbar(fraction=0.045, pad=0.05,ticks=[0.0,0.2,0.4,0.6,0.8,1.0])\n",
    "\n",
    "plt.tight_layout(h_pad=1, w_pad=1.5)\n",
    "plt.show()"
   ]
  },
  {
   "cell_type": "markdown",
   "metadata": {},
   "source": [
    "### The difference between WS small world network and K_regular network"
   ]
  },
  {
   "cell_type": "code",
   "execution_count": 8,
   "metadata": {},
   "outputs": [
    {
     "data": {
      "image/png": "[encoded data removed]",
      "text/plain": [
       "<Figure size 576x230.4 with 2 Axes>"
      ]
     },
     "metadata": {},
     "output_type": "display_data"
    }
   ],
   "source": [
    "n = 100 \n",
    "Prew = np.linspace(0,1,21,endpoint=True)\n",
    "G_regular = nx.watts_strogatz_graph(n, 4, 0.0)\n",
    "Ar, Lr = fu.cal_AandL(G_regular)\n",
    "\n",
    "\n",
    "DJS4 = []\n",
    "DJS5 = []\n",
    "DJS6 = []\n",
    "DJS7 = []\n",
    "\n",
    "DJS8 = []\n",
    "DJS9 = []\n",
    "DJS10 = []\n",
    "DJS11 = []\n",
    "\n",
    "\n",
    "beta = 0.1\n",
    "pd1 = fu.cal_density_matrix2(beta, Lr)\n",
    "pe1 = fu.cal_density_matrix2(beta, -Ar)\n",
    "\n",
    "for p in Prew:\n",
    "    G_ws = nx.watts_strogatz_graph(n, 4, p)\n",
    "    Aws, Lws = fu.cal_AandL(G_ws)\n",
    "    pd2 = fu.cal_density_matrix2(beta, Lws)\n",
    "    pe2 = fu.cal_density_matrix2(beta, -Aws)\n",
    "    DJS4.append(fu.cal_JSD(pd1, pd2))\n",
    "    DJS8.append(fu.cal_JSD(pe1, pe2))\n",
    "    \n",
    "\n",
    "beta = 0.25\n",
    "pd3 = fu.cal_density_matrix2(beta, Lr)\n",
    "pe3 = fu.cal_density_matrix2(beta, -Ar)\n",
    "\n",
    "for p in Prew:\n",
    "    G_ws = nx.watts_strogatz_graph(n, 4, p)\n",
    "    Aws, Lws = fu.cal_AandL(G_ws)\n",
    "    pd4 = fu.cal_density_matrix2(beta, Lws)\n",
    "    pe4 = fu.cal_density_matrix2(beta, -Aws)\n",
    "    DJS5.append(fu.cal_JSD(pd3, pd4))\n",
    "    DJS9.append(fu.cal_JSD(pe3, pe4))\n",
    "    \n",
    "\n",
    "beta = 0.5\n",
    "pd5 = fu.cal_density_matrix2(beta, Lr)\n",
    "pe5 = fu.cal_density_matrix2(beta, -Ar)\n",
    "\n",
    "for p in Prew:\n",
    "    G_ws = nx.watts_strogatz_graph(n, 4, p)\n",
    "    Aws, Lws = fu.cal_AandL(G_ws)\n",
    "    pd6 = fu.cal_density_matrix2(beta, Lws)\n",
    "    pe6 = fu.cal_density_matrix2(beta, -Aws)\n",
    "    DJS6.append(fu.cal_JSD(pd5, pd6))\n",
    "    DJS10.append(fu.cal_JSD(pe5, pe6))\n",
    "\n",
    "\n",
    "beta = 1.0\n",
    "pd7 = fu.cal_density_matrix2(beta, Lr)\n",
    "pe7 = fu.cal_density_matrix2(beta, -Ar)\n",
    "\n",
    "for p in Prew:\n",
    "    G_ws = nx.watts_strogatz_graph(n, 4, p)\n",
    "    Aws, Lws = fu.cal_AandL(G_ws)\n",
    "    pd8 = fu.cal_density_matrix2(beta, Lws)\n",
    "    pe8 = fu.cal_density_matrix2(beta, -Aws)\n",
    "    DJS7.append(fu.cal_JSD(pd7, pd8))\n",
    "    DJS11.append(fu.cal_JSD(pe7, pe8))\n",
    "    \n",
    "\n",
    "plt.figure(figsize=(8, 3.2))\n",
    "plt.subplot(121)\n",
    "plt.plot(Prew, DJS4, 'bs-', lw=1.5, ms=4, label=r'$\\beta=0.10$') \n",
    "plt.plot(Prew, DJS5, 'ro-', lw=1.5, ms=4, label=r'$\\beta=0.25$')\n",
    "plt.plot(Prew, DJS6, 'g^-', lw=1.5, ms=4, label=r'$\\beta=0.50$')\n",
    "plt.plot(Prew, DJS7, 'mv-', lw=1.5, ms=4, label=r'$\\beta=1.00$')\n",
    "\n",
    "plt.legend(loc=0,fontsize=12)\n",
    "plt.axis('tight')\n",
    "plt.xlabel(r'$P_{rew}$')\n",
    "plt.ylabel(r'$D_{JS}(\\mathcal{\\rho}_d || \\mathcal{\\sigma}_d)$')\n",
    "plt.title('(a)')\n",
    "\n",
    "plt.xlim(0,1)\n",
    "plt.xticks([0,0.2,0.4,0.6,0.8,1.0])\n",
    "plt.ylim(-0.04,1.04)\n",
    "plt.yticks([0.0,0.2,0.4,0.6,0.8,1.0])\n",
    "\n",
    "\n",
    "plt.subplot(122)\n",
    "plt.plot(Prew, DJS8, 'bs-', lw=1.5, ms=4, label=r'$\\beta=0.10$') \n",
    "plt.plot(Prew, DJS9, 'ro-', lw=1.5, ms=4, label=r'$\\beta=0.25$')\n",
    "plt.plot(Prew, DJS10, 'g^-', lw=1.5, ms=4, label=r'$\\beta=0.50$')\n",
    "plt.plot(Prew, DJS11, 'mv-', lw=1.5, ms=4, label=r'$\\beta=1.00$')\n",
    "\n",
    "plt.legend(loc=2,fontsize=12)\n",
    "plt.axis('tight')\n",
    "plt.xlabel(r'$P_{rew}$')\n",
    "plt.ylabel(r'$D_{JS}(\\mathcal{\\rho}_e || \\mathcal{\\sigma}_e)$')\n",
    "plt.title('(b)')\n",
    "\n",
    "plt.xlim(0,1)\n",
    "plt.xticks([0,0.2,0.4,0.6,0.8,1.0])\n",
    "plt.ylim(-0.04,1.04)\n",
    "plt.yticks([0.0,0.2,0.4,0.6,0.8,1.0])\n",
    "\n",
    "plt.tight_layout()\n",
    "plt.show()"
   ]
  },
  {
   "cell_type": "code",
   "execution_count": null,
   "metadata": {},
   "outputs": [],
   "source": []
  }
 ],
 "metadata": {
  "kernelspec": {
   "display_name": "Python 3",
   "language": "python",
   "name": "python3"
  },
  "language_info": {
   "codemirror_mode": {
    "name": "ipython",
    "version": 3
   },
   "file_extension": ".py",
   "mimetype": "text/x-python",
   "name": "python",
   "nbconvert_exporter": "python",
   "pygments_lexer": "ipython3",
   "version": "3.6.5"
  }
 },
 "nbformat": 4,
 "nbformat_minor": 2
}
